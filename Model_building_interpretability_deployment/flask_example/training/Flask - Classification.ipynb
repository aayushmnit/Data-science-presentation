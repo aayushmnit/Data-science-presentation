{
 "cells": [
  {
   "cell_type": "markdown",
   "metadata": {
    "heading_collapsed": true
   },
   "source": [
    "## 1) Importing libraries"
   ]
  },
  {
   "cell_type": "code",
   "execution_count": 1,
   "metadata": {
    "ExecuteTime": {
     "end_time": "2018-07-29T14:38:59.650983-05:00",
     "start_time": "2018-07-29T14:38:37.193486Z"
    },
    "hidden": true
   },
   "outputs": [
    {
     "name": "stderr",
     "output_type": "stream",
     "text": [
      "C:\\Users\\Aayush - Carlson\\Anaconda2\\envs\\py35\\lib\\site-packages\\matplotlib\\__init__.py:1405: UserWarning: \n",
      "This call to matplotlib.use() has no effect because the backend has already\n",
      "been chosen; matplotlib.use() must be called *before* pylab, matplotlib.pyplot,\n",
      "or matplotlib.backends is imported for the first time.\n",
      "\n",
      "  warnings.warn(_use_error_msg)\n"
     ]
    }
   ],
   "source": [
    "import sys\n",
    "import os\n",
    "import lime\n",
    "import lime.lime_tabular\n",
    "import dill as pickle\n",
    "#sys.path.append(os.path.abspath(\"../../\"))\n",
    "from ml_classification import *\n",
    "from generic_preprocessing import *\n",
    "from IPython.display import HTML"
   ]
  },
  {
   "cell_type": "markdown",
   "metadata": {
    "heading_collapsed": true
   },
   "source": [
    "## 2) Importing data"
   ]
  },
  {
   "cell_type": "code",
   "execution_count": 2,
   "metadata": {
    "ExecuteTime": {
     "end_time": "2018-07-29T14:39:00.354665-05:00",
     "start_time": "2018-07-29T14:38:59.658748Z"
    },
    "hidden": true
   },
   "outputs": [
    {
     "data": {
      "text/html": [
       "<div>\n",
       "<style>\n",
       "    .dataframe thead tr:only-child th {\n",
       "        text-align: right;\n",
       "    }\n",
       "\n",
       "    .dataframe thead th {\n",
       "        text-align: left;\n",
       "    }\n",
       "\n",
       "    .dataframe tbody tr th {\n",
       "        vertical-align: top;\n",
       "    }\n",
       "</style>\n",
       "<table border=\"1\" class=\"dataframe\">\n",
       "  <thead>\n",
       "    <tr style=\"text-align: right;\">\n",
       "      <th></th>\n",
       "      <th>Age</th>\n",
       "      <th>Workclass</th>\n",
       "      <th>fnlwgt</th>\n",
       "      <th>Education</th>\n",
       "      <th>Education-Num</th>\n",
       "      <th>Marital Status</th>\n",
       "      <th>Occupation</th>\n",
       "      <th>Relationship</th>\n",
       "      <th>Race</th>\n",
       "      <th>Sex</th>\n",
       "      <th>Capital Gain</th>\n",
       "      <th>Capital Loss</th>\n",
       "      <th>Hours per week</th>\n",
       "      <th>Country</th>\n",
       "      <th>income</th>\n",
       "    </tr>\n",
       "  </thead>\n",
       "  <tbody>\n",
       "    <tr>\n",
       "      <th>0</th>\n",
       "      <td>39</td>\n",
       "      <td>State-gov</td>\n",
       "      <td>77516</td>\n",
       "      <td>Bachelors</td>\n",
       "      <td>13</td>\n",
       "      <td>Never-married</td>\n",
       "      <td>Adm-clerical</td>\n",
       "      <td>Not-in-family</td>\n",
       "      <td>White</td>\n",
       "      <td>Male</td>\n",
       "      <td>2174</td>\n",
       "      <td>0</td>\n",
       "      <td>40</td>\n",
       "      <td>United-States</td>\n",
       "      <td>&lt;=50K</td>\n",
       "    </tr>\n",
       "    <tr>\n",
       "      <th>1</th>\n",
       "      <td>50</td>\n",
       "      <td>Self-emp-not-inc</td>\n",
       "      <td>83311</td>\n",
       "      <td>Bachelors</td>\n",
       "      <td>13</td>\n",
       "      <td>Married-civ-spouse</td>\n",
       "      <td>Exec-managerial</td>\n",
       "      <td>Husband</td>\n",
       "      <td>White</td>\n",
       "      <td>Male</td>\n",
       "      <td>0</td>\n",
       "      <td>0</td>\n",
       "      <td>13</td>\n",
       "      <td>United-States</td>\n",
       "      <td>&lt;=50K</td>\n",
       "    </tr>\n",
       "    <tr>\n",
       "      <th>2</th>\n",
       "      <td>38</td>\n",
       "      <td>Private</td>\n",
       "      <td>215646</td>\n",
       "      <td>HS-grad</td>\n",
       "      <td>9</td>\n",
       "      <td>Divorced</td>\n",
       "      <td>Handlers-cleaners</td>\n",
       "      <td>Not-in-family</td>\n",
       "      <td>White</td>\n",
       "      <td>Male</td>\n",
       "      <td>0</td>\n",
       "      <td>0</td>\n",
       "      <td>40</td>\n",
       "      <td>United-States</td>\n",
       "      <td>&lt;=50K</td>\n",
       "    </tr>\n",
       "    <tr>\n",
       "      <th>3</th>\n",
       "      <td>53</td>\n",
       "      <td>Private</td>\n",
       "      <td>234721</td>\n",
       "      <td>11th</td>\n",
       "      <td>7</td>\n",
       "      <td>Married-civ-spouse</td>\n",
       "      <td>Handlers-cleaners</td>\n",
       "      <td>Husband</td>\n",
       "      <td>Black</td>\n",
       "      <td>Male</td>\n",
       "      <td>0</td>\n",
       "      <td>0</td>\n",
       "      <td>40</td>\n",
       "      <td>United-States</td>\n",
       "      <td>&lt;=50K</td>\n",
       "    </tr>\n",
       "    <tr>\n",
       "      <th>4</th>\n",
       "      <td>28</td>\n",
       "      <td>Private</td>\n",
       "      <td>338409</td>\n",
       "      <td>Bachelors</td>\n",
       "      <td>13</td>\n",
       "      <td>Married-civ-spouse</td>\n",
       "      <td>Prof-specialty</td>\n",
       "      <td>Wife</td>\n",
       "      <td>Black</td>\n",
       "      <td>Female</td>\n",
       "      <td>0</td>\n",
       "      <td>0</td>\n",
       "      <td>40</td>\n",
       "      <td>Cuba</td>\n",
       "      <td>&lt;=50K</td>\n",
       "    </tr>\n",
       "  </tbody>\n",
       "</table>\n",
       "</div>"
      ],
      "text/plain": [
       "  Age         Workclass  fnlwgt  Education Education-Num      Marital Status  \\\n",
       "0  39         State-gov   77516  Bachelors            13       Never-married   \n",
       "1  50  Self-emp-not-inc   83311  Bachelors            13  Married-civ-spouse   \n",
       "2  38           Private  215646    HS-grad             9            Divorced   \n",
       "3  53           Private  234721       11th             7  Married-civ-spouse   \n",
       "4  28           Private  338409  Bachelors            13  Married-civ-spouse   \n",
       "\n",
       "          Occupation   Relationship   Race     Sex Capital Gain Capital Loss  \\\n",
       "0       Adm-clerical  Not-in-family  White    Male         2174            0   \n",
       "1    Exec-managerial        Husband  White    Male            0            0   \n",
       "2  Handlers-cleaners  Not-in-family  White    Male            0            0   \n",
       "3  Handlers-cleaners        Husband  Black    Male            0            0   \n",
       "4     Prof-specialty           Wife  Black  Female            0            0   \n",
       "\n",
       "  Hours per week        Country income  \n",
       "0             40  United-States  <=50K  \n",
       "1             13  United-States  <=50K  \n",
       "2             40  United-States  <=50K  \n",
       "3             40  United-States  <=50K  \n",
       "4             40           Cuba  <=50K  "
      ]
     },
     "execution_count": 2,
     "metadata": {},
     "output_type": "execute_result"
    }
   ],
   "source": [
    "data = np.genfromtxt('adult.data.txt', delimiter=', ', dtype=str)\n",
    "feature_names = [\n",
    "    \"Age\", \"Workclass\", \"fnlwgt\", \"Education\", \"Education-Num\",\n",
    "    \"Marital Status\", \"Occupation\", \"Relationship\", \"Race\", \"Sex\",\n",
    "    \"Capital Gain\", \"Capital Loss\", \"Hours per week\", \"Country\", 'income'\n",
    "]\n",
    "data = pd.DataFrame(data)\n",
    "data.columns = feature_names\n",
    "data.head()"
   ]
  },
  {
   "cell_type": "code",
   "execution_count": 3,
   "metadata": {
    "ExecuteTime": {
     "end_time": "2018-07-29T14:39:00.421051-05:00",
     "start_time": "2018-07-29T14:39:00.355626Z"
    },
    "hidden": true
   },
   "outputs": [],
   "source": [
    "## Separating train and test data\n",
    "test_indices = np.random.randint(0,data.shape[0],size = int(data.shape[0]/5))\n",
    "test_data = data.loc[test_indices,:].reset_index(drop=True)\n",
    "train_data = data.loc[set(range(data.shape[0]))-set(test_indices),:].reset_index(drop=True)"
   ]
  },
  {
   "cell_type": "code",
   "execution_count": 4,
   "metadata": {
    "ExecuteTime": {
     "end_time": "2018-07-29T14:39:00.463951-05:00",
     "start_time": "2018-07-29T14:39:00.422021Z"
    },
    "hidden": true
   },
   "outputs": [
    {
     "name": "stdout",
     "output_type": "stream",
     "text": [
      "Data size: Rows-6512 Columns-15\n",
      "Data size: Rows-26665 Columns-15\n"
     ]
    }
   ],
   "source": [
    "print_dim(test_data)\n",
    "print_dim(train_data)"
   ]
  },
  {
   "cell_type": "markdown",
   "metadata": {
    "heading_collapsed": true
   },
   "source": [
    "## 3) Data processing"
   ]
  },
  {
   "cell_type": "code",
   "execution_count": 5,
   "metadata": {
    "ExecuteTime": {
     "end_time": "2018-07-29T14:39:00.556707-05:00",
     "start_time": "2018-07-29T14:39:00.464926Z"
    },
    "hidden": true
   },
   "outputs": [],
   "source": [
    "## Defining numerical and categorical variables\n",
    "numerical_features = list(data.columns[[0,2,4,10,11,12]])\n",
    "categorical_features = list(data.columns[[1,3,5,6,7,8,9,13]])"
   ]
  },
  {
   "cell_type": "code",
   "execution_count": 6,
   "metadata": {
    "ExecuteTime": {
     "end_time": "2018-07-29T14:39:00.723593-05:00",
     "start_time": "2018-07-29T14:39:00.561557Z"
    },
    "hidden": true
   },
   "outputs": [
    {
     "name": "stdout",
     "output_type": "stream",
     "text": [
      "0 Age <class 'numpy.float64'> 73 [39. 50. 38. 53. 28.]\n",
      "1 fnlwgt <class 'numpy.float64'> 18698 [ 77516.  83311. 215646. 234721. 338409.]\n",
      "2 Education-Num <class 'numpy.float64'> 16 [13.  9.  7. 14.  5.]\n",
      "3 Capital Gain <class 'numpy.float64'> 116 [ 2174.     0.  2407. 14344.  7688.]\n",
      "4 Capital Loss <class 'numpy.float64'> 91 [   0. 2042. 1408. 1902. 1573.]\n",
      "5 Hours per week <class 'numpy.float64'> 93 [40. 13. 16. 45. 30.]\n"
     ]
    }
   ],
   "source": [
    "## Converting numerical feature data type to float\n",
    "for i in numerical_features:\n",
    "    train_data.loc[:,i] = train_data.loc[:,i].astype(float)\n",
    "\n",
    "## Checking new datatype\n",
    "print_dataunique(train_data.loc[:,numerical_features])"
   ]
  },
  {
   "cell_type": "code",
   "execution_count": 7,
   "metadata": {
    "ExecuteTime": {
     "end_time": "2018-07-29T14:39:00.760653-05:00",
     "start_time": "2018-07-29T14:39:00.725550Z"
    },
    "hidden": true
   },
   "outputs": [],
   "source": [
    "## creating a target variable\n",
    "y_label = list(train_data.income.apply(lambda x: 1 if x == '>50K' else 0))\n",
    "train_data.drop(['income'],axis = 1, inplace=True)"
   ]
  },
  {
   "cell_type": "code",
   "execution_count": 26,
   "metadata": {
    "ExecuteTime": {
     "end_time": "2018-07-28T07:49:42.303525-05:00",
     "start_time": "2018-07-28T07:49:41.735515Z"
    },
    "hidden": true
   },
   "outputs": [
    {
     "name": "stdout",
     "output_type": "stream",
     "text": [
      "Label encoding column - Workclass\n",
      "Label encoding column - Education\n",
      "Label encoding column - Marital Status\n",
      "Label encoding column - Occupation\n",
      "Label encoding column - Relationship\n",
      "Label encoding column - Race\n",
      "Label encoding column - Sex\n",
      "Label encoding column - Country\n"
     ]
    },
    {
     "data": {
      "text/html": [
       "<div>\n",
       "<style>\n",
       "    .dataframe thead tr:only-child th {\n",
       "        text-align: right;\n",
       "    }\n",
       "\n",
       "    .dataframe thead th {\n",
       "        text-align: left;\n",
       "    }\n",
       "\n",
       "    .dataframe tbody tr th {\n",
       "        vertical-align: top;\n",
       "    }\n",
       "</style>\n",
       "<table border=\"1\" class=\"dataframe\">\n",
       "  <thead>\n",
       "    <tr style=\"text-align: right;\">\n",
       "      <th></th>\n",
       "      <th>Age</th>\n",
       "      <th>Workclass</th>\n",
       "      <th>fnlwgt</th>\n",
       "      <th>Education</th>\n",
       "      <th>Education-Num</th>\n",
       "      <th>Marital Status</th>\n",
       "      <th>Occupation</th>\n",
       "      <th>Relationship</th>\n",
       "      <th>Race</th>\n",
       "      <th>Sex</th>\n",
       "      <th>Capital Gain</th>\n",
       "      <th>Capital Loss</th>\n",
       "      <th>Hours per week</th>\n",
       "      <th>Country</th>\n",
       "    </tr>\n",
       "  </thead>\n",
       "  <tbody>\n",
       "    <tr>\n",
       "      <th>0</th>\n",
       "      <td>28.0</td>\n",
       "      <td>4</td>\n",
       "      <td>338409.0</td>\n",
       "      <td>9</td>\n",
       "      <td>13.0</td>\n",
       "      <td>2</td>\n",
       "      <td>10</td>\n",
       "      <td>5</td>\n",
       "      <td>2</td>\n",
       "      <td>0</td>\n",
       "      <td>0.0</td>\n",
       "      <td>0.0</td>\n",
       "      <td>40.0</td>\n",
       "      <td>5</td>\n",
       "    </tr>\n",
       "    <tr>\n",
       "      <th>1</th>\n",
       "      <td>37.0</td>\n",
       "      <td>4</td>\n",
       "      <td>284582.0</td>\n",
       "      <td>12</td>\n",
       "      <td>14.0</td>\n",
       "      <td>2</td>\n",
       "      <td>4</td>\n",
       "      <td>5</td>\n",
       "      <td>4</td>\n",
       "      <td>0</td>\n",
       "      <td>0.0</td>\n",
       "      <td>0.0</td>\n",
       "      <td>40.0</td>\n",
       "      <td>39</td>\n",
       "    </tr>\n",
       "    <tr>\n",
       "      <th>2</th>\n",
       "      <td>31.0</td>\n",
       "      <td>4</td>\n",
       "      <td>45781.0</td>\n",
       "      <td>12</td>\n",
       "      <td>14.0</td>\n",
       "      <td>4</td>\n",
       "      <td>10</td>\n",
       "      <td>1</td>\n",
       "      <td>4</td>\n",
       "      <td>0</td>\n",
       "      <td>14084.0</td>\n",
       "      <td>0.0</td>\n",
       "      <td>50.0</td>\n",
       "      <td>39</td>\n",
       "    </tr>\n",
       "    <tr>\n",
       "      <th>3</th>\n",
       "      <td>37.0</td>\n",
       "      <td>4</td>\n",
       "      <td>280464.0</td>\n",
       "      <td>15</td>\n",
       "      <td>10.0</td>\n",
       "      <td>2</td>\n",
       "      <td>4</td>\n",
       "      <td>0</td>\n",
       "      <td>2</td>\n",
       "      <td>1</td>\n",
       "      <td>0.0</td>\n",
       "      <td>0.0</td>\n",
       "      <td>80.0</td>\n",
       "      <td>39</td>\n",
       "    </tr>\n",
       "    <tr>\n",
       "      <th>4</th>\n",
       "      <td>30.0</td>\n",
       "      <td>7</td>\n",
       "      <td>141297.0</td>\n",
       "      <td>9</td>\n",
       "      <td>13.0</td>\n",
       "      <td>2</td>\n",
       "      <td>10</td>\n",
       "      <td>0</td>\n",
       "      <td>1</td>\n",
       "      <td>1</td>\n",
       "      <td>0.0</td>\n",
       "      <td>0.0</td>\n",
       "      <td>40.0</td>\n",
       "      <td>19</td>\n",
       "    </tr>\n",
       "  </tbody>\n",
       "</table>\n",
       "</div>"
      ],
      "text/plain": [
       "    Age  Workclass    fnlwgt  Education  Education-Num  Marital Status  \\\n",
       "0  28.0          4  338409.0          9           13.0               2   \n",
       "1  37.0          4  284582.0         12           14.0               2   \n",
       "2  31.0          4   45781.0         12           14.0               4   \n",
       "3  37.0          4  280464.0         15           10.0               2   \n",
       "4  30.0          7  141297.0          9           13.0               2   \n",
       "\n",
       "   Occupation  Relationship  Race  Sex  Capital Gain  Capital Loss  \\\n",
       "0          10             5     2    0           0.0           0.0   \n",
       "1           4             5     4    0           0.0           0.0   \n",
       "2          10             1     4    0       14084.0           0.0   \n",
       "3           4             0     2    1           0.0           0.0   \n",
       "4          10             0     1    1           0.0           0.0   \n",
       "\n",
       "   Hours per week  Country  \n",
       "0            40.0        5  \n",
       "1            40.0       39  \n",
       "2            50.0       39  \n",
       "3            80.0       39  \n",
       "4            40.0       19  "
      ]
     },
     "execution_count": 26,
     "metadata": {},
     "output_type": "execute_result"
    }
   ],
   "source": [
    "## One hot encoding categorical features\n",
    "data_processed, le_dict = label_encoder(train_data,categorical_features)\n",
    "data_processed.head()"
   ]
  },
  {
   "cell_type": "code",
   "execution_count": 27,
   "metadata": {
    "ExecuteTime": {
     "end_time": "2018-07-28T07:49:42.776077-05:00",
     "start_time": "2018-07-28T07:49:42.757510Z"
    },
    "hidden": true
   },
   "outputs": [],
   "source": [
    "## Creating hold-out CV\n",
    "X_train, X_test, y_train, y_test = holdout_cv(data_processed,y_label,size =0.3)\n",
    "X_train = X_train.reset_index(drop='index')\n",
    "X_test = X_test.reset_index(drop='index')"
   ]
  },
  {
   "cell_type": "markdown",
   "metadata": {
    "heading_collapsed": true
   },
   "source": [
    "## 4) Model Building - Binary Classification"
   ]
  },
  {
   "cell_type": "code",
   "execution_count": 31,
   "metadata": {
    "ExecuteTime": {
     "end_time": "2018-07-28T07:50:12.713420-05:00",
     "start_time": "2018-07-28T07:50:11.912067Z"
    },
    "hidden": true
   },
   "outputs": [
    {
     "name": "stdout",
     "output_type": "stream",
     "text": [
      "Train and Test loss :  0.9369329013864193 0.9131041971553713\n"
     ]
    }
   ],
   "source": [
    "## Running an Xgboost model fo model building and model explaination\n",
    "pred_y_test, loss,_,rf_model = runRF(X_train.values, y_train, X_test.values, y_test,rounds=187)"
   ]
  },
  {
   "cell_type": "markdown",
   "metadata": {
    "heading_collapsed": true
   },
   "source": [
    "## 5) Serializing essential files"
   ]
  },
  {
   "cell_type": "code",
   "execution_count": 32,
   "metadata": {
    "ExecuteTime": {
     "end_time": "2018-07-28T07:50:25.569231-05:00",
     "start_time": "2018-07-28T07:50:25.390578Z"
    },
    "hidden": true
   },
   "outputs": [],
   "source": [
    "## Numerical column names\n",
    "pickle.dump(numerical_features,open('../model/numerical_list.p','wb'))\n",
    "pickle.dump(xgb_model,open('../model/rf_model.p','wb'))\n",
    "pickle.dump(le_dict,open('../model/le_dict.p','wb'))"
   ]
  },
  {
   "cell_type": "markdown",
   "metadata": {
    "ExecuteTime": {
     "end_time": "2018-07-28T04:22:24.707411-05:00",
     "start_time": "2018-07-28T04:22:24.584441Z"
    },
    "heading_collapsed": true
   },
   "source": [
    "## 6) Hitting the  API"
   ]
  },
  {
   "cell_type": "code",
   "execution_count": 8,
   "metadata": {
    "ExecuteTime": {
     "end_time": "2018-07-29T14:39:01.418579-05:00",
     "start_time": "2018-07-29T14:39:00.772365Z"
    },
    "hidden": true
   },
   "outputs": [],
   "source": [
    "## Importing libraries  \n",
    "import json ##for converting data to json format\n",
    "import requests ## Hitting the api with data"
   ]
  },
  {
   "cell_type": "code",
   "execution_count": 9,
   "metadata": {
    "ExecuteTime": {
     "end_time": "2018-07-29T14:39:01.445903-05:00",
     "start_time": "2018-07-29T14:39:01.420499Z"
    },
    "hidden": true
   },
   "outputs": [],
   "source": [
    "## Converting test data to JSON format\n",
    "\"\"\"\n",
    "Setting the headers to send and accept json responses\n",
    "\"\"\"\n",
    "header = {'Content-Type': 'application/json', \\\n",
    "                  'Accept': 'application/json'}\n",
    "\n",
    "\"\"\"Converting Pandas Dataframe to json\n",
    "\"\"\"\n",
    "data = test_data.drop(['income'],axis=1).to_json(orient='records')"
   ]
  },
  {
   "cell_type": "markdown",
   "metadata": {
    "heading_collapsed": true,
    "hidden": true
   },
   "source": [
    "### Run \"python main.py\" in flask_example folder before running the code below"
   ]
  },
  {
   "cell_type": "code",
   "execution_count": 59,
   "metadata": {
    "ExecuteTime": {
     "end_time": "2018-07-29T15:08:49.349985-05:00",
     "start_time": "2018-07-29T15:08:47.867202Z"
    },
    "hidden": true
   },
   "outputs": [],
   "source": [
    "\"\"\"\n",
    "POST <url>/predict\n",
    "\"\"\"\n",
    "resp = requests.post(\"http://localhost:5000/predict\", \\\n",
    "                    data = json.dumps(data),\\\n",
    "                    headers= header)"
   ]
  },
  {
   "cell_type": "code",
   "execution_count": 60,
   "metadata": {
    "ExecuteTime": {
     "end_time": "2018-07-29T15:09:29.677976-05:00",
     "start_time": "2018-07-29T15:09:29.592117Z"
    },
    "hidden": true
   },
   "outputs": [
    {
     "name": "stdout",
     "output_type": "stream",
     "text": [
      "Response code:200\n",
      "   index  predictions\n",
      "0      0     0.113134\n",
      "1      1     0.047628\n",
      "2      2     0.075332\n",
      "3      3     0.171609\n",
      "4      4     0.268776\n"
     ]
    }
   ],
   "source": [
    "## Printing predictions\n",
    "print(\"Response code:{0}\".format(resp.status_code))\n",
    "print(pd.DataFrame(eval(resp.json()['predictions'])).head())"
   ]
  },
  {
   "cell_type": "markdown",
   "metadata": {
    "hidden": true
   },
   "source": [
    "### Checking api running from docker"
   ]
  },
  {
   "cell_type": "markdown",
   "metadata": {
    "hidden": true
   },
   "source": [
    "- Go to \"docker folder\"\n",
    "- Open docker quickstart terminal and go to this \"docker\" foler\n",
    "- To create a \"docker image run docker build -t flaskexample\" , where flaskexample will be the name of docker image\n",
    "- After image is created run this command - \"docker run -p 4000:80 flaskexample\" to run a container with our app\n",
    "- Run the code below to check if API is running properly within docker "
   ]
  },
  {
   "cell_type": "code",
   "execution_count": 63,
   "metadata": {
    "ExecuteTime": {
     "end_time": "2018-07-29T15:15:53.255869-05:00",
     "start_time": "2018-07-29T15:15:52.915207Z"
    },
    "hidden": true
   },
   "outputs": [],
   "source": [
    "\"\"\"\n",
    "POST <url>/predict\n",
    "** NOTE-IP address changes depending on the OS the docker is running, for windows below link will work \n",
    "\"\"\"\n",
    "resp = requests.post(\"http://192.168.99.100:4000/predict\", \\\n",
    "                    data = json.dumps(data),\\\n",
    "                    headers= header)"
   ]
  },
  {
   "cell_type": "code",
   "execution_count": 64,
   "metadata": {
    "ExecuteTime": {
     "end_time": "2018-07-29T15:15:54.586292-05:00",
     "start_time": "2018-07-29T15:15:54.507239Z"
    },
    "hidden": true
   },
   "outputs": [
    {
     "name": "stdout",
     "output_type": "stream",
     "text": [
      "Response code:200\n",
      "   index  predictions\n",
      "0      0     0.113134\n",
      "1      1     0.047628\n",
      "2      2     0.075332\n",
      "3      3     0.171609\n",
      "4      4     0.268776\n"
     ]
    }
   ],
   "source": [
    "## Printing predictions\n",
    "print(\"Response code:{0}\".format(resp.status_code))\n",
    "print(pd.DataFrame(eval(resp.json()['predictions'])).head())"
   ]
  }
 ],
 "metadata": {
  "anaconda-cloud": {},
  "kernelspec": {
   "display_name": "Python [conda env:py35]",
   "language": "python",
   "name": "conda-env-py35-py"
  },
  "language_info": {
   "codemirror_mode": {
    "name": "ipython",
    "version": 3
   },
   "file_extension": ".py",
   "mimetype": "text/x-python",
   "name": "python",
   "nbconvert_exporter": "python",
   "pygments_lexer": "ipython3",
   "version": "3.5.2"
  }
 },
 "nbformat": 4,
 "nbformat_minor": 2
}
